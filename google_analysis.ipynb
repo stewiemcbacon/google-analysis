{
 "cells": [
  {
   "cell_type": "code",
   "execution_count": 742,
   "metadata": {},
   "outputs": [],
   "source": [
    "import pandas as pd\n",
    "import numpy as np\n",
    "from collections import defaultdict\n",
    "from bs4 import BeautifulSoup as bs4\n",
    "from tqdm import tqdm\n",
    "tqdm.pandas()\n",
    "import seaborn as sns\n",
    "from ipywidgets import interact, interactive, fixed, interact_manual\n",
    "import ipywidgets as widgets\n",
    "import matplotlib.pyplot as plt\n",
    "from calendar import monthrange\n",
    "from wordcloud import WordCloud"
   ]
  },
  {
   "cell_type": "code",
   "execution_count": null,
   "metadata": {},
   "outputs": [],
   "source": [
    "# Open HTML\n",
    "with open(path, 'r', encoding='utf-8') as f:\n",
    "    html = f.read()"
   ]
  },
  {
   "cell_type": "code",
   "execution_count": null,
   "metadata": {},
   "outputs": [],
   "source": [
    "# Parse HTML\n",
    "soup = bs4(html, 'html.parser')"
   ]
  },
  {
   "cell_type": "code",
   "execution_count": 433,
   "metadata": {},
   "outputs": [],
   "source": [
    "# Create DataFrame from parsed HTML\n",
    "df_dict = defaultdict(list)\n",
    "\n",
    "data = soup.find_all('div', {'class':'content-cell mdl-cell mdl-cell--6-col mdl-typography--body-1'})\n",
    "for d in data:\n",
    "    find = d.find('a')\n",
    "    df_dict['search'].append(find.get_text())\n",
    "    df_dict['url'].append(find['href'])\n",
    "    df_dict['datetime'].append(str(d.next.next.next.next.next.string))\n",
    "\n",
    "df = pd.DataFrame(df_dict)"
   ]
  },
  {
   "cell_type": "code",
   "execution_count": 434,
   "metadata": {},
   "outputs": [],
   "source": [
    "# Remove non-searches\n",
    "df['datetime'] = df['datetime'].replace(r'(Watched at )(\\d|\\d\\d):\\d\\d(pm|am)', np.nan, regex=True)\n",
    "df = df.dropna()"
   ]
  },
  {
   "cell_type": "code",
   "execution_count": 435,
   "metadata": {},
   "outputs": [
    {
     "name": "stderr",
     "output_type": "stream",
     "text": [
      "c:\\Users\\stefa\\anaconda4\\lib\\site-packages\\dateutil\\parser\\_parser.py:1207: UnknownTimezoneWarning: tzname CET identified but not understood.  Pass `tzinfos` argument in order to correctly return a timezone-aware datetime.  In a future version, this will raise an exception.\n",
      "  warnings.warn(\"tzname {tzname} identified but not understood.  \"\n"
     ]
    }
   ],
   "source": [
    "# Convert to datetime\n",
    "df['datetime'] = pd.to_datetime(df['datetime'])"
   ]
  },
  {
   "cell_type": "code",
   "execution_count": 436,
   "metadata": {},
   "outputs": [
    {
     "data": {
      "text/html": [
       "<div>\n",
       "<style scoped>\n",
       "    .dataframe tbody tr th:only-of-type {\n",
       "        vertical-align: middle;\n",
       "    }\n",
       "\n",
       "    .dataframe tbody tr th {\n",
       "        vertical-align: top;\n",
       "    }\n",
       "\n",
       "    .dataframe thead th {\n",
       "        text-align: right;\n",
       "    }\n",
       "</style>\n",
       "<table border=\"1\" class=\"dataframe\">\n",
       "  <thead>\n",
       "    <tr style=\"text-align: right;\">\n",
       "      <th></th>\n",
       "      <th>search</th>\n",
       "      <th>url</th>\n",
       "      <th>datetime</th>\n",
       "      <th>year</th>\n",
       "      <th>month</th>\n",
       "      <th>day</th>\n",
       "      <th>hour</th>\n",
       "      <th>second</th>\n",
       "      <th>minute</th>\n",
       "    </tr>\n",
       "  </thead>\n",
       "  <tbody>\n",
       "    <tr>\n",
       "      <th>0</th>\n",
       "      <td>world's hardest game aaron</td>\n",
       "      <td>https://www.youtube.com/results?search_query=w...</td>\n",
       "      <td>2022-11-12 22:35:20</td>\n",
       "      <td>2022</td>\n",
       "      <td>11</td>\n",
       "      <td>12</td>\n",
       "      <td>22</td>\n",
       "      <td>20</td>\n",
       "      <td>35</td>\n",
       "    </tr>\n",
       "    <tr>\n",
       "      <th>1</th>\n",
       "      <td>world's hardest game shiroma</td>\n",
       "      <td>https://www.youtube.com/results?search_query=w...</td>\n",
       "      <td>2022-11-12 22:07:26</td>\n",
       "      <td>2022</td>\n",
       "      <td>11</td>\n",
       "      <td>12</td>\n",
       "      <td>22</td>\n",
       "      <td>26</td>\n",
       "      <td>7</td>\n",
       "    </tr>\n",
       "    <tr>\n",
       "      <th>2</th>\n",
       "      <td>3blue1brown mandlebrot</td>\n",
       "      <td>https://www.youtube.com/results?search_query=3...</td>\n",
       "      <td>2022-11-12 20:15:40</td>\n",
       "      <td>2022</td>\n",
       "      <td>11</td>\n",
       "      <td>12</td>\n",
       "      <td>20</td>\n",
       "      <td>40</td>\n",
       "      <td>15</td>\n",
       "    </tr>\n",
       "    <tr>\n",
       "      <th>3</th>\n",
       "      <td>niggas in parris</td>\n",
       "      <td>https://www.youtube.com/results?search_query=n...</td>\n",
       "      <td>2022-11-12 19:52:54</td>\n",
       "      <td>2022</td>\n",
       "      <td>11</td>\n",
       "      <td>12</td>\n",
       "      <td>19</td>\n",
       "      <td>54</td>\n",
       "      <td>52</td>\n",
       "    </tr>\n",
       "    <tr>\n",
       "      <th>4</th>\n",
       "      <td>xps 15 9520 short circuit</td>\n",
       "      <td>https://www.youtube.com/results?search_query=x...</td>\n",
       "      <td>2022-11-12 19:31:06</td>\n",
       "      <td>2022</td>\n",
       "      <td>11</td>\n",
       "      <td>12</td>\n",
       "      <td>19</td>\n",
       "      <td>6</td>\n",
       "      <td>31</td>\n",
       "    </tr>\n",
       "  </tbody>\n",
       "</table>\n",
       "</div>"
      ],
      "text/plain": [
       "                         search  \\\n",
       "0    world's hardest game aaron   \n",
       "1  world's hardest game shiroma   \n",
       "2        3blue1brown mandlebrot   \n",
       "3              niggas in parris   \n",
       "4     xps 15 9520 short circuit   \n",
       "\n",
       "                                                 url            datetime  \\\n",
       "0  https://www.youtube.com/results?search_query=w... 2022-11-12 22:35:20   \n",
       "1  https://www.youtube.com/results?search_query=w... 2022-11-12 22:07:26   \n",
       "2  https://www.youtube.com/results?search_query=3... 2022-11-12 20:15:40   \n",
       "3  https://www.youtube.com/results?search_query=n... 2022-11-12 19:52:54   \n",
       "4  https://www.youtube.com/results?search_query=x... 2022-11-12 19:31:06   \n",
       "\n",
       "   year  month  day  hour  second  minute  \n",
       "0  2022     11   12    22      20      35  \n",
       "1  2022     11   12    22      26       7  \n",
       "2  2022     11   12    20      40      15  \n",
       "3  2022     11   12    19      54      52  \n",
       "4  2022     11   12    19       6      31  "
      ]
     },
     "execution_count": 436,
     "metadata": {},
     "output_type": "execute_result"
    }
   ],
   "source": [
    "# Extract datetime\n",
    "df['year'] = df['datetime'].apply(lambda x: x.year)\n",
    "df['month'] = df['datetime'].apply(lambda x: x.month)\n",
    "df['day'] = df['datetime'].apply(lambda x: x.day)\n",
    "df['hour'] = df['datetime'].apply(lambda x: x.hour)\n",
    "df['second'] = df['datetime'].apply(lambda x: x.second)\n",
    "df['minute'] = df['datetime'].apply(lambda x: x.minute)\n",
    "df.to_csv('youtube_data.csv')\n",
    "\n",
    "df.head()"
   ]
  },
  {
   "cell_type": "code",
   "execution_count": 438,
   "metadata": {},
   "outputs": [],
   "source": [
    "df = pd.read_csv('youtube_data.csv', index_col = 0)"
   ]
  },
  {
   "cell_type": "code",
   "execution_count": 1033,
   "metadata": {},
   "outputs": [
    {
     "data": {
      "text/html": [
       "<div>\n",
       "<style scoped>\n",
       "    .dataframe tbody tr th:only-of-type {\n",
       "        vertical-align: middle;\n",
       "    }\n",
       "\n",
       "    .dataframe tbody tr th {\n",
       "        vertical-align: top;\n",
       "    }\n",
       "\n",
       "    .dataframe thead th {\n",
       "        text-align: right;\n",
       "    }\n",
       "</style>\n",
       "<table border=\"1\" class=\"dataframe\">\n",
       "  <thead>\n",
       "    <tr style=\"text-align: right;\">\n",
       "      <th></th>\n",
       "      <th>search</th>\n",
       "      <th>url</th>\n",
       "    </tr>\n",
       "  </thead>\n",
       "  <tbody>\n",
       "    <tr>\n",
       "      <th>1999</th>\n",
       "      <td>bayes probability examples</td>\n",
       "      <td>https://www.youtube.com/results?search_query=b...</td>\n",
       "    </tr>\n",
       "    <tr>\n",
       "      <th>2000</th>\n",
       "      <td>conditionalisation example</td>\n",
       "      <td>https://www.youtube.com/results?search_query=c...</td>\n",
       "    </tr>\n",
       "    <tr>\n",
       "      <th>2001</th>\n",
       "      <td>bayes theorem example</td>\n",
       "      <td>https://www.youtube.com/results?search_query=b...</td>\n",
       "    </tr>\n",
       "    <tr>\n",
       "      <th>2002</th>\n",
       "      <td>bayes theorem conditionalisation</td>\n",
       "      <td>https://www.youtube.com/results?search_query=b...</td>\n",
       "    </tr>\n",
       "  </tbody>\n",
       "</table>\n",
       "</div>"
      ],
      "text/plain": [
       "                                search  \\\n",
       "1999        bayes probability examples   \n",
       "2000        conditionalisation example   \n",
       "2001             bayes theorem example   \n",
       "2002  bayes theorem conditionalisation   \n",
       "\n",
       "                                                    url  \n",
       "1999  https://www.youtube.com/results?search_query=b...  \n",
       "2000  https://www.youtube.com/results?search_query=c...  \n",
       "2001  https://www.youtube.com/results?search_query=b...  \n",
       "2002  https://www.youtube.com/results?search_query=b...  "
      ]
     },
     "metadata": {},
     "output_type": "display_data"
    }
   ],
   "source": [
    "# Functions\n",
    "def int_to_month(month):\n",
    "    month_dict = {\n",
    "        1:'Jan',\n",
    "        2:'Feb',\n",
    "        3:'Mar',\n",
    "        4:'Apr',\n",
    "        5:'May',\n",
    "        6:'Jun',\n",
    "        7:'Jul',\n",
    "        8:'Aug',\n",
    "        9:'Sep',\n",
    "        10:'Oct',\n",
    "        11:'Nov',\n",
    "        12:'Dec'\n",
    "    }\n",
    "    return month_dict[month]\n",
    "\n",
    "def fill_hours(grouped_df):\n",
    "    grouped_df_dict = defaultdict(list)\n",
    "    for hour in range(0,24):\n",
    "        if hour in grouped_df['hour'].unique():\n",
    "            grouped_df_dict['hour'].append(hour)\n",
    "            grouped_df_dict['search'].append(grouped_df[grouped_df['hour']==hour]['search'].values[0])\n",
    "        else:\n",
    "            grouped_df_dict['hour'].append(hour)\n",
    "            grouped_df_dict['search'].append(0)\n",
    "\n",
    "    return pd.DataFrame(grouped_df_dict)\n",
    "\n",
    "def df_to_single_string(df):\n",
    "    return ' '.join(df['search'].str.lower())\n",
    "\n",
    "def string_to_wordcloud(text):\n",
    "    plt.figure(figsize=(15,10))\n",
    "    wc = WordCloud(background_color='white', width=700,height=350)\n",
    "    wc.generate(text)\n",
    "\n",
    "    plt.axis('off')\n",
    "    plt.imshow(wc, interpolation='bilinear')\n",
    "    plt.show()\n",
    "\n",
    "# string_to_wordcloud(df_to_single_string(df))\n",
    "\n",
    "def high_overview(min_max = (2015, 2022), toggle_search = False, toggle_wc = False):\n",
    "    def window_size(size=10):\n",
    "        display(show_df[['search','datetime']][:size])\n",
    "        per_year = show_df.groupby('year')['search'].count().reset_index()\n",
    "\n",
    "        sns.barplot(data = per_year, x='year',y='search').set(title= str(min) + ' - ' + str(max))\n",
    "\n",
    "    min, max = min_max\n",
    "    show_df = df[df['year'].between(min, max)]\n",
    "\n",
    "    if toggle_wc:\n",
    "        string_to_wordcloud(df_to_single_string(show_df))\n",
    "    \n",
    "    if toggle_search:\n",
    "        size_slider = widgets.IntSlider(value=10, min = 0, max = 100)\n",
    "        interact(window_size, show_df = show_df, size = size_slider)\n",
    "\n",
    "    \n",
    "\n",
    "    per_year = show_df.groupby('year')['search'].count().reset_index()\n",
    "    sns.barplot(data = per_year, x='year',y='search').set(title= str(min) + ' - ' + str(max))\n",
    "\n",
    "    \n",
    "\n",
    "def select_year(year, toggle_search = False, toggle_wc = False):\n",
    "    def window_size(size=10):\n",
    "        display(show_df[['search','datetime']][:size])\n",
    "        per_year = show_df.groupby('month')['search'].count().reset_index()\n",
    "\n",
    "        sns.barplot(data = per_year, x='month',y='search').set(title= str(min) + ' - ' + str(max))\n",
    "        \n",
    "    if year:\n",
    "        show_df = df[df['year'] == year]\n",
    "\n",
    "        if toggle_wc:\n",
    "            string_to_wordcloud(df_to_single_string(show_df))\n",
    "\n",
    "        if toggle_search:\n",
    "            size_slider = widgets.IntSlider(value=10, min = 0, max = 100)\n",
    "            interact(window_size, show_df = show_df, size = size_slider)\n",
    "\n",
    "        # show_df['month'] = show_df['month'].apply(lambda x: int_to_month(x))\n",
    "        per_year = show_df.groupby('month')['search'].count().reset_index()\n",
    "        sns.barplot(data = per_year, x='month',y='search').set(title=year)\n",
    "\n",
    "        min_year, max_year = df['year'].min(), df['year'].max()\n",
    "        years = list(range(min_year, max_year+1))\n",
    "        year_dropdown = widgets.Dropdown(value=year, options=years)\n",
    "        year_dropdown.layout.visibility='hidden'\n",
    "\n",
    "        months = list(range(1,13))\n",
    "        select_month_dropdown = widgets.Dropdown(options=months, value=None)\n",
    "        toggle_search_button = widgets.ToggleButton(value = False)\n",
    "        toggle_wc_button = widgets.ToggleButton(value = False)\n",
    "        \n",
    "        interact(select_month, year = year_dropdown, month = select_month_dropdown, toggle_search = toggle_search_button, toggle_wc = toggle_wc_button)\n",
    "\n",
    "    \n",
    "\n",
    "def select_month(year, month, toggle_search = False, toggle_wc = False):\n",
    "    def window_size(size=10):\n",
    "        display(show_df[['search','datetime']][:size])\n",
    "        per_month = show_df.groupby('day')['search'].count().reset_index()\n",
    "\n",
    "        sns.barplot(data = per_month, x='day', y='search').set(title=str(year) + ', ' + int_to_month(month))\n",
    "\n",
    "\n",
    "    if month != None:\n",
    "        show_df = df[(df['year'] == year) & (df['month'] == month)]\n",
    "\n",
    "        if toggle_wc:\n",
    "            string_to_wordcloud(df_to_single_string(show_df))\n",
    "\n",
    "        if toggle_search:\n",
    "            size_slider = widgets.IntSlider(value=10, min = 0, max = 100)\n",
    "            interact(window_size, show_df = show_df, size = size_slider)\n",
    "        \n",
    "        per_month = show_df.groupby('day')['search'].count().reset_index()\n",
    "        sns.barplot(data = per_month, x='day', y='search').set(title=str(year) + ', ' + int_to_month(month))\n",
    "\n",
    "        # Data\n",
    "        min_year, max_year = df['year'].min(), df['year'].max()\n",
    "        years = list(range(min_year, max_year+1))\n",
    "        year_dropdown = widgets.Dropdown(value=year, options=years)\n",
    "        year_dropdown.layout.visibility='hidden'\n",
    "\n",
    "        months = list(range(1,13))\n",
    "        select_month_dropdown = widgets.Dropdown(options=months, value=month)\n",
    "        select_month_dropdown.layout.visibility='hidden'\n",
    "\n",
    "        days_options = range(1, monthrange(year, month)[1]+1)\n",
    "        select_days_dropdown = widgets.Dropdown(options=days_options, value=None)\n",
    "        toggle_search_button = widgets.ToggleButton(value = False)\n",
    "        toggle_wc_button = widgets.ToggleButton(value = False)\n",
    "\n",
    "        interact(select_day, year=year_dropdown, month=select_month_dropdown, day = select_days_dropdown, toggle_search = toggle_search_button, toggle_wc = toggle_wc_button)\n",
    "    \n",
    "\n",
    "def select_day(year, month, day, toggle_search = False, toggle_wc = False):\n",
    "    def window_size(size=10):\n",
    "        display(show_df[['search','datetime']][:size])\n",
    "        per_day = show_df.groupby('hour')['search'].count().reset_index()\n",
    "        filled_day = fill_hours(per_day)\n",
    "        \n",
    "        sns.barplot(data=filled_day, x='hour',y='search').set(title=str(year) + ', ' + int_to_month(month) + ', ' + str(day))\n",
    "\n",
    "    if day != None:\n",
    "        show_df = df[(df['year'] == year) & (df['month'] == month) & (df['day'] == day)]\n",
    "\n",
    "        if toggle_wc:\n",
    "            string_to_wordcloud(df_to_single_string(show_df))\n",
    "\n",
    "        if toggle_search:\n",
    "            size_slider = widgets.IntSlider(value=10, min = 0, max = 100)\n",
    "            interact(window_size, show_df = show_df, size = size_slider)\n",
    "\n",
    "        per_day = show_df.groupby('hour')['search'].count().reset_index()\n",
    "        filled_day = fill_hours(per_day)\n",
    "        \n",
    "        sns.barplot(data=filled_day, x='hour',y='search').set(title=str(year) + ', ' + int_to_month(month) + ', ' + str(day))\n",
    "\n",
    "        min_year, max_year = df['year'].min(), df['year'].max()\n",
    "        years = list(range(min_year, max_year+1))\n",
    "        year_dropdown = widgets.Dropdown(value=year, options=years)\n",
    "        year_dropdown.layout.visibility='hidden'\n",
    "\n",
    "        months = list(range(1,13))\n",
    "        select_month_dropdown = widgets.Dropdown(options=months, value=month)\n",
    "        select_month_dropdown.layout.visibility='hidden'\n",
    "\n",
    "        days_options = range(1, monthrange(year, month)[1]+1)\n",
    "        select_days_dropdown = widgets.Dropdown(options=days_options, value=day)\n",
    "        select_days_dropdown.layout.visibility='hidden'\n",
    "\n",
    "        hour_options = list(range(0,24))\n",
    "        select_hours_dropdown = widgets.Dropdown(options=hour_options, value=None)\n",
    "        toggle_wc_button = widgets.ToggleButton(value = False)\n",
    "\n",
    "        interact(select_hour, year = year_dropdown, month = select_month_dropdown, day= select_days_dropdown, hour=select_hours_dropdown, toggle_wc = toggle_wc_button)\n",
    "        \n",
    "        \n",
    "\n",
    "def select_hour(year, month, day, hour, toggle_wc = False):\n",
    "    if hour != None:\n",
    "        show_df = df[(df['year'] == year) & (df['month'] == month) & (df['day'] == day) & (df['hour'] == hour)]\n",
    "\n",
    "        if toggle_wc:\n",
    "            string_to_wordcloud(df_to_single_string(show_df))\n",
    "            \n",
    "        display(show_df[['search','url']])\n",
    "\n",
    "\n",
    "select_hour(2020,11,27,13)"
   ]
  },
  {
   "cell_type": "code",
   "execution_count": 1034,
   "metadata": {},
   "outputs": [
    {
     "data": {
      "application/vnd.jupyter.widget-view+json": {
       "model_id": "1cd58fb52cc14d7a962959b84d54de2e",
       "version_major": 2,
       "version_minor": 0
      },
      "text/plain": [
       "interactive(children=(IntSlider(value=10, description='x'), Output()), _dom_classes=('widget-interact',))"
      ]
     },
     "metadata": {},
     "output_type": "display_data"
    },
    {
     "data": {
      "text/plain": [
       "<function __main__.f(x)>"
      ]
     },
     "execution_count": 1034,
     "metadata": {},
     "output_type": "execute_result"
    }
   ],
   "source": [
    "# Testing\n",
    "def f(x):\n",
    "    display(df[:x])\n",
    "\n",
    "x_dr = widgets.IntSlider(value=10)\n",
    "interact(f, x=x_dr)"
   ]
  },
  {
   "cell_type": "code",
   "execution_count": 1035,
   "metadata": {},
   "outputs": [
    {
     "data": {
      "text/plain": [
       "[2015, 2016, 2017, 2018, 2019, 2020, 2021, 2022]"
      ]
     },
     "execution_count": 1035,
     "metadata": {},
     "output_type": "execute_result"
    }
   ],
   "source": [
    "# Initialization\n",
    "min_year, max_year = df['year'].min(), df['year'].max()\n",
    "years = list(range(min_year, max_year+1))\n",
    "months = list(range(1,13))\n",
    "years"
   ]
  },
  {
   "cell_type": "code",
   "execution_count": 1036,
   "metadata": {},
   "outputs": [],
   "source": [
    "# Widgets\n",
    "min_max_slider = widgets.IntRangeSlider(options=df['year'].unique(), value=[min_year, max_year], min=min_year,max=max_year, description='Filter years')\n",
    "select_year_dropdown = widgets.Dropdown(options=years, value=None, description = 'Select a year')\n",
    "toggle_search_button = widgets.ToggleButton(value = False)\n",
    "toggle_wc_button = widgets.ToggleButton(value = False)\n",
    "toggle_search_button2 = widgets.ToggleButton(value = False)\n",
    "toggle_wc_button2 = widgets.ToggleButton(value = False)"
   ]
  },
  {
   "cell_type": "code",
   "execution_count": 1037,
   "metadata": {},
   "outputs": [
    {
     "data": {
      "application/vnd.jupyter.widget-view+json": {
       "model_id": "17319dac43ac4c209c1bc8cd354f73a0",
       "version_major": 2,
       "version_minor": 0
      },
      "text/plain": [
       "interactive(children=(IntRangeSlider(value=(2015, 2022), description='Filter years', max=2022, min=2015), Togg…"
      ]
     },
     "metadata": {},
     "output_type": "display_data"
    },
    {
     "data": {
      "application/vnd.jupyter.widget-view+json": {
       "model_id": "95fb2b941f884c24bd446f6cbfc7619b",
       "version_major": 2,
       "version_minor": 0
      },
      "text/plain": [
       "interactive(children=(Dropdown(description='Select a year', options=(2015, 2016, 2017, 2018, 2019, 2020, 2021,…"
      ]
     },
     "metadata": {},
     "output_type": "display_data"
    },
    {
     "data": {
      "text/plain": [
       "<function __main__.select_year(year, toggle_search=False, toggle_wc=False)>"
      ]
     },
     "execution_count": 1037,
     "metadata": {},
     "output_type": "execute_result"
    }
   ],
   "source": [
    "interact(high_overview, min_max = min_max_slider, toggle_search = toggle_search_button, toggle_wc = toggle_wc_button)\n",
    "interact(select_year, year = select_year_dropdown, toggle_search = toggle_search_button2, toggle_wc = toggle_wc_button2)"
   ]
  },
  {
   "cell_type": "markdown",
   "metadata": {},
   "source": [
    "# TODO:\n",
    "- Add days with no usage to the plot\n",
    "- Format month integer to readable month\n",
    "- Dynamic dropdown options\n",
    "- Render plots next to each other\n",
    "- Add button to show list of searches at year, month, day and hour level\n",
    "- Fix disappearance of next dropdown when search is toggled in year++ stages"
   ]
  },
  {
   "cell_type": "code",
   "execution_count": 965,
   "metadata": {},
   "outputs": [],
   "source": []
  },
  {
   "cell_type": "code",
   "execution_count": 985,
   "metadata": {},
   "outputs": [],
   "source": [
    "def df_to_single_string(df):\n",
    "    return ' '.join(df['search'].str.lower())"
   ]
  }
 ],
 "metadata": {
  "kernelspec": {
   "display_name": "Python 3.9.12 ('base')",
   "language": "python",
   "name": "python3"
  },
  "language_info": {
   "codemirror_mode": {
    "name": "ipython",
    "version": 3
   },
   "file_extension": ".py",
   "mimetype": "text/x-python",
   "name": "python",
   "nbconvert_exporter": "python",
   "pygments_lexer": "ipython3",
   "version": "3.9.12"
  },
  "orig_nbformat": 4,
  "vscode": {
   "interpreter": {
    "hash": "bc52d58eea5cbc37a1ef7b1c3b6d2b18b2f2a1c0db214dcd98265ae0a02b28cf"
   }
  }
 },
 "nbformat": 4,
 "nbformat_minor": 2
}
